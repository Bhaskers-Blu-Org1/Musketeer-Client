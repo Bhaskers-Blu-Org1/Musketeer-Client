{
 "cells": [
  {
   "cell_type": "markdown",
   "metadata": {},
   "source": [
    "# Musketeer platform workflow - Task creator\n",
    "\n",
    "In this notebook we will demonstrate the typical workflow in the Musketeer platform for task creators. It involves:\n",
    "- Creating a username and password (only required initially)\n",
    "- Listing existing Federated ML tasks\n",
    "- Creating a new Federated ML task\n",
    "- Running that task as aggregator"
   ]
  },
  {
   "cell_type": "markdown",
   "metadata": {},
   "source": [
    "## Load prerequisites"
   ]
  },
  {
   "cell_type": "code",
   "execution_count": null,
   "metadata": {},
   "outputs": [],
   "source": [
    "import sys\n",
    "sys.path.append(\"..\")\n",
    "sys.path.append(\"../demo\")\n",
    "from demo import register, listing, creator, aggregator\n",
    "from demo import platform_utils as utils\n",
    "\n",
    "from time import time, gmtime, strftime\n",
    "\n",
    "import logging\n",
    "logger = logging.getLogger()\n",
    "handler = logger.handlers[0]\n",
    "handler.setLevel(logging.INFO)"
   ]
  },
  {
   "cell_type": "markdown",
   "metadata": {},
   "source": [
    "## Create a user name and password"
   ]
  },
  {
   "cell_type": "code",
   "execution_count": null,
   "metadata": {},
   "outputs": [],
   "source": [
    "credentials = 'json credentials file>' # e.g. '../local_credential_sample.json'\n",
    "user = '<user name>' # note local mode requires that user names must be different for aggregator and participants\n",
    "password = '<password>'\n",
    "org = '<organization>'"
   ]
  },
  {
   "cell_type": "code",
   "execution_count": null,
   "metadata": {},
   "outputs": [],
   "source": [
    "platform = 'cloud'\n",
    "context = utils.platform(platform, credentials)\n",
    "\n",
    "# Only run this if you had not created this user before:\n",
    "try:        \n",
    "    register.create_user(context, user, password, org)\n",
    "except Exception as err:\n",
    "    print(\"Error:\", err)"
   ]
  },
  {
   "cell_type": "markdown",
   "metadata": {},
   "source": [
    "## Listing existing Federated ML tasks"
   ]
  },
  {
   "cell_type": "code",
   "execution_count": null,
   "metadata": {},
   "outputs": [],
   "source": [
    "#Now create the platform context for the new user\n",
    "context = utils.platform(platform, credentials, user, password)\n",
    "\n",
    "tasks = listing.get_tasks(context)"
   ]
  },
  {
   "cell_type": "code",
   "execution_count": null,
   "metadata": {},
   "outputs": [],
   "source": [
    "print(\"Number of tasks:\", len(tasks))"
   ]
  },
  {
   "cell_type": "code",
   "execution_count": null,
   "metadata": {},
   "outputs": [],
   "source": [
    "# List all tasks that have been added in the last 24 hours:\n",
    "for task in tasks:\n",
    "    if task['added'] >= strftime('%Y-%m-%dT%H:%M:%S', gmtime(time() - 3600*24)):\n",
    "        print(task['task_name'], '\\t', task['added'], '\\t', task['status'])"
   ]
  },
  {
   "cell_type": "markdown",
   "metadata": {},
   "source": [
    "## Creating a new Federated ML task"
   ]
  },
  {
   "cell_type": "code",
   "execution_count": null,
   "metadata": {},
   "outputs": [],
   "source": [
    "# Note: task names need to be unique, so you need to use a new name for each task that you create\n",
    "task_name = '<task name>'\n",
    "\n",
    "task_definition = {\"aggregator\": \"neural_network.Aggregator\",\n",
    "                   \"participant\": \"neural_network.Participant\",\n",
    "                   \"quorum\": 1,\n",
    "                   \"round\": 2,\n",
    "                   \"epoch\": 1,\n",
    "                   \"batch_size\": 256,\n",
    "                   \"learning_rate\": 0.001,\n",
    "                   \"training_size\": 3000,\n",
    "                   \"test_size\": 1000,\n",
    "                  }"
   ]
  },
  {
   "cell_type": "code",
   "execution_count": null,
   "metadata": {},
   "outputs": [],
   "source": [
    "try:\n",
    "    result = creator.create_task(context, task_name, task_definition)\n",
    "except Exception as err:\n",
    "    print(\"Error:\", err)"
   ]
  },
  {
   "cell_type": "code",
   "execution_count": null,
   "metadata": {},
   "outputs": [],
   "source": [
    "tasks = listing.get_tasks(context)"
   ]
  },
  {
   "cell_type": "code",
   "execution_count": null,
   "metadata": {},
   "outputs": [],
   "source": [
    "print('New task available in Musketeer: ', task_name in [t[\"task_name\"] for t in tasks])"
   ]
  },
  {
   "cell_type": "code",
   "execution_count": null,
   "metadata": {},
   "outputs": [],
   "source": [
    "print([t for t in tasks if t[\"task_name\"] == task_name][0])"
   ]
  },
  {
   "cell_type": "markdown",
   "metadata": {},
   "source": [
    "## Running that task as aggregator"
   ]
  },
  {
   "cell_type": "code",
   "execution_count": null,
   "metadata": {},
   "outputs": [],
   "source": [
    "try:\n",
    "    aggregator.run(context, task_name)\n",
    "except Exception as err:\n",
    "    print(\"Error:\", err)"
   ]
  },
  {
   "cell_type": "code",
   "execution_count": null,
   "metadata": {},
   "outputs": [],
   "source": []
  }
 ],
 "metadata": {
  "kernelspec": {
   "display_name": "Python 3",
   "language": "python",
   "name": "python3"
  },
  "language_info": {
   "codemirror_mode": {
    "name": "ipython",
    "version": 3
   },
   "file_extension": ".py",
   "mimetype": "text/x-python",
   "name": "python",
   "nbconvert_exporter": "python",
   "pygments_lexer": "ipython3",
   "version": "3.6.9"
  }
 },
 "nbformat": 4,
 "nbformat_minor": 1
}
